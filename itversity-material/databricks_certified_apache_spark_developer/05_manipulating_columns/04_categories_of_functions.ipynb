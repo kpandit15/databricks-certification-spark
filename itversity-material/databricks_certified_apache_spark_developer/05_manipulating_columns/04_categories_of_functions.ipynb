{
 "cells": [
  {
   "cell_type": "markdown",
   "metadata": {
    "application/vnd.databricks.v1+cell": {
     "inputWidgets": {},
     "nuid": "6ef3100d-6fa2-4ba7-8499-4fbe92452c6e",
     "showTitle": false,
     "title": ""
    }
   },
   "source": [
    "## Categories of Functions\n",
    "\n",
    "There are approximately 300 functions under `pyspark.sql.functions`. At a higher level they can be grouped into a few categories."
   ]
  },
  {
   "cell_type": "markdown",
   "metadata": {
    "application/vnd.databricks.v1+cell": {
     "inputWidgets": {},
     "nuid": "d483926b-f903-4e35-b578-11855185b771",
     "showTitle": false,
     "title": ""
    }
   },
   "source": [
    "* String Manipulation Functions\n",
    "  * Case Conversion - `lower`,  `upper`\n",
    "  * Getting Length -  `length`\n",
    "  * Extracting substrings - `substring`, `split`\n",
    "  * Trimming - `trim`, `ltrim`, `rtrim`\n",
    "  * Padding - `lpad`, `rpad`\n",
    "  * Concatenating string - `concat`, `concat_ws`\n",
    "* Date Manipulation Functions\n",
    "  * Getting current date and time - `current_date`, `current_timestamp`\n",
    "  * Date Arithmetic - `date_add`, `date_sub`, `datediff`, `months_between`, `add_months`, `next_day`\n",
    "  * Beginning and Ending Date or Time - `last_day`, `trunc`, `date_trunc`\n",
    "  * Formatting Date - `date_format`\n",
    "  * Extracting Information - `dayofyear`, `dayofmonth`, `dayofweek`, `year`, `month`\n",
    "* Aggregate Functions\n",
    "  * `count`, `countDistinct`\n",
    "  * `sum`, `avg`\n",
    "  * `min`, `max`\n",
    "* Other Functions - We will explore depending on the use cases.\n",
    "  * `CASE` and `WHEN`\n",
    "  * `CAST` for type casting\n",
    "  * Functions to manage special types such as `ARRAY`, `MAP`, `STRUCT` type columns\n",
    "  * Many others"
   ]
  },
  {
   "cell_type": "code",
   "execution_count": null,
   "metadata": {
    "application/vnd.databricks.v1+cell": {
     "inputWidgets": {},
     "nuid": "cf51efc0-e510-4b27-aff5-99c690caf1bd",
     "showTitle": false,
     "title": ""
    }
   },
   "outputs": [],
   "source": []
  }
 ],
 "metadata": {
  "application/vnd.databricks.v1+notebook": {
   "dashboards": [],
   "language": "python",
   "notebookMetadata": {
    "pythonIndentUnit": 4
   },
   "notebookName": "04 Categories Of Functions",
   "notebookOrigID": 456917195748647,
   "widgets": {}
  },
  "kernelspec": {
   "display_name": "Python 3 (ipykernel)",
   "language": "python",
   "name": "python3"
  },
  "language_info": {
   "codemirror_mode": {
    "name": "ipython",
    "version": 3
   },
   "file_extension": ".py",
   "mimetype": "text/x-python",
   "name": "python",
   "nbconvert_exporter": "python",
   "pygments_lexer": "ipython3",
   "version": "3.8.10"
  }
 },
 "nbformat": 4,
 "nbformat_minor": 4
}
