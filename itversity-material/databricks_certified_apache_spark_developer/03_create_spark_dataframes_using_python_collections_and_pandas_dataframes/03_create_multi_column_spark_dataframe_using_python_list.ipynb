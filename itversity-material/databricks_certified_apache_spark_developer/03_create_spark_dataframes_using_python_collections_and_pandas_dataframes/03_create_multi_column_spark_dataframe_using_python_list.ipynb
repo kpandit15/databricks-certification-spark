{
 "cells": [
  {
   "cell_type": "code",
   "execution_count": 1,
   "metadata": {
    "application/vnd.databricks.v1+cell": {
     "inputWidgets": {},
     "nuid": "e63906ce-83c5-4694-b23c-09a045488c55",
     "showTitle": false,
     "title": ""
    }
   },
   "outputs": [],
   "source": [
    "ages_list = [(21, ), (23, ), (41, ), (32, )]"
   ]
  },
  {
   "cell_type": "code",
   "execution_count": 2,
   "metadata": {
    "application/vnd.databricks.v1+cell": {
     "inputWidgets": {},
     "nuid": "cae16fe9-dd8c-4e1c-a5e2-8fca95e887df",
     "showTitle": false,
     "title": ""
    }
   },
   "outputs": [
    {
     "data": {
      "text/plain": [
       "list"
      ]
     },
     "execution_count": 2,
     "metadata": {},
     "output_type": "execute_result"
    }
   ],
   "source": [
    "type(ages_list)"
   ]
  },
  {
   "cell_type": "code",
   "execution_count": 3,
   "metadata": {
    "application/vnd.databricks.v1+cell": {
     "inputWidgets": {},
     "nuid": "c8ab481f-6d0e-42f7-88c7-bdff5cd5fc70",
     "showTitle": false,
     "title": ""
    }
   },
   "outputs": [
    {
     "data": {
      "text/plain": [
       "tuple"
      ]
     },
     "execution_count": 3,
     "metadata": {},
     "output_type": "execute_result"
    }
   ],
   "source": [
    "type(ages_list[2])"
   ]
  },
  {
   "cell_type": "code",
   "execution_count": 6,
   "metadata": {
    "application/vnd.databricks.v1+cell": {
     "inputWidgets": {},
     "nuid": "c5c64569-4fee-479a-b7e4-ccba2d1fa5b9",
     "showTitle": false,
     "title": ""
    }
   },
   "outputs": [
    {
     "data": {
      "text/html": [
       "<table border='1'>\n",
       "<tr><th>age</th></tr>\n",
       "<tr><td>21</td></tr>\n",
       "<tr><td>23</td></tr>\n",
       "<tr><td>41</td></tr>\n",
       "<tr><td>32</td></tr>\n",
       "</table>\n"
      ],
      "text/plain": [
       "+---+\n",
       "|age|\n",
       "+---+\n",
       "| 21|\n",
       "| 23|\n",
       "| 41|\n",
       "| 32|\n",
       "+---+"
      ]
     },
     "execution_count": 6,
     "metadata": {},
     "output_type": "execute_result"
    }
   ],
   "source": [
    "spark.createDataFrame(ages_list, 'age int')"
   ]
  },
  {
   "cell_type": "code",
   "execution_count": 7,
   "metadata": {
    "application/vnd.databricks.v1+cell": {
     "inputWidgets": {},
     "nuid": "1563ca95-35f9-4932-86c5-13cd92f37ccd",
     "showTitle": false,
     "title": ""
    }
   },
   "outputs": [],
   "source": [
    "users_list = [(1, 'Scott'), (2, 'Donald'), (3, 'Mickey'), (4, 'Elvis')]"
   ]
  },
  {
   "cell_type": "code",
   "execution_count": 8,
   "metadata": {
    "application/vnd.databricks.v1+cell": {
     "inputWidgets": {},
     "nuid": "ae8c5b9f-1918-49b4-940d-7f0ddcf54715",
     "showTitle": false,
     "title": ""
    }
   },
   "outputs": [
    {
     "data": {
      "text/html": [
       "<table border='1'>\n",
       "<tr><th>_1</th><th>_2</th></tr>\n",
       "<tr><td>1</td><td>Scott</td></tr>\n",
       "<tr><td>2</td><td>Donald</td></tr>\n",
       "<tr><td>3</td><td>Mickey</td></tr>\n",
       "<tr><td>4</td><td>Elvis</td></tr>\n",
       "</table>\n"
      ],
      "text/plain": [
       "+---+------+\n",
       "| _1|    _2|\n",
       "+---+------+\n",
       "|  1| Scott|\n",
       "|  2|Donald|\n",
       "|  3|Mickey|\n",
       "|  4| Elvis|\n",
       "+---+------+"
      ]
     },
     "execution_count": 8,
     "metadata": {},
     "output_type": "execute_result"
    }
   ],
   "source": [
    "spark.createDataFrame(users_list)"
   ]
  },
  {
   "cell_type": "code",
   "execution_count": 9,
   "metadata": {
    "application/vnd.databricks.v1+cell": {
     "inputWidgets": {},
     "nuid": "3656ee37-dc92-4f9d-b15b-4c4d523eeabd",
     "showTitle": false,
     "title": ""
    }
   },
   "outputs": [
    {
     "data": {
      "text/html": [
       "<table border='1'>\n",
       "<tr><th>user_id</th><th>user_first_name</th></tr>\n",
       "<tr><td>1</td><td>Scott</td></tr>\n",
       "<tr><td>2</td><td>Donald</td></tr>\n",
       "<tr><td>3</td><td>Mickey</td></tr>\n",
       "<tr><td>4</td><td>Elvis</td></tr>\n",
       "</table>\n"
      ],
      "text/plain": [
       "+-------+---------------+\n",
       "|user_id|user_first_name|\n",
       "+-------+---------------+\n",
       "|      1|          Scott|\n",
       "|      2|         Donald|\n",
       "|      3|         Mickey|\n",
       "|      4|          Elvis|\n",
       "+-------+---------------+"
      ]
     },
     "execution_count": 9,
     "metadata": {},
     "output_type": "execute_result"
    }
   ],
   "source": [
    "spark.createDataFrame(users_list, 'user_id int, user_first_name string')"
   ]
  },
  {
   "cell_type": "code",
   "execution_count": null,
   "metadata": {},
   "outputs": [],
   "source": []
  }
 ],
 "metadata": {
  "application/vnd.databricks.v1+notebook": {
   "dashboards": [],
   "language": "python",
   "notebookMetadata": {
    "pythonIndentUnit": 4
   },
   "notebookName": "03 Create Multi Column Spark Dataframe using Python list",
   "notebookOrigID": 456917195749976,
   "widgets": {}
  },
  "kernelspec": {
   "display_name": "Pyspark 3",
   "language": "python",
   "name": "pyspark3"
  },
  "language_info": {
   "codemirror_mode": {
    "name": "ipython",
    "version": 3
   },
   "file_extension": ".py",
   "mimetype": "text/x-python",
   "name": "python",
   "nbconvert_exporter": "python",
   "pygments_lexer": "ipython3",
   "version": "3.6.9"
  }
 },
 "nbformat": 4,
 "nbformat_minor": 4
}
