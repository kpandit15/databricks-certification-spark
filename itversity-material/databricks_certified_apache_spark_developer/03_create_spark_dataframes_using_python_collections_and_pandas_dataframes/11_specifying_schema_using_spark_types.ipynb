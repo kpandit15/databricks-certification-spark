{
 "cells": [
  {
   "cell_type": "code",
   "execution_count": 1,
   "metadata": {
    "application/vnd.databricks.v1+cell": {
     "inputWidgets": {},
     "nuid": "14b6a601-2c96-46ed-a857-cb5a9a477a4a",
     "showTitle": false,
     "title": ""
    }
   },
   "outputs": [],
   "source": [
    "import datetime\n",
    "users = [(1,\n",
    "  'Corrie',\n",
    "  'Van den Oord',\n",
    "  'cvandenoord0@etsy.com',\n",
    "  True,\n",
    "  1000.55,\n",
    "  datetime.date(2021, 1, 15),\n",
    "  datetime.datetime(2021, 2, 10, 1, 15)),\n",
    " (2,\n",
    "  'Nikolaus',\n",
    "  'Brewitt',\n",
    "  'nbrewitt1@dailymail.co.uk',\n",
    "  True,\n",
    "  900.0,\n",
    "  datetime.date(2021, 2, 14),\n",
    "  datetime.datetime(2021, 2, 18, 3, 33)),\n",
    " (3,\n",
    "  'Orelie',\n",
    "  'Penney',\n",
    "  'openney2@vistaprint.com',\n",
    "  True,\n",
    "  850.55,\n",
    "  datetime.date(2021, 1, 21),\n",
    "  datetime.datetime(2021, 3, 15, 15, 16, 55)),\n",
    " (4,\n",
    "  'Ashby',\n",
    "  'Maddocks',\n",
    "  'amaddocks3@home.pl',\n",
    "  False,\n",
    "  None,\n",
    "  None,\n",
    "  datetime.datetime(2021, 4, 10, 17, 45, 30)),\n",
    " (5,\n",
    "  'Kurt',\n",
    "  'Rome',\n",
    "  'krome4@shutterfly.com',\n",
    "  False,\n",
    "  None,\n",
    "  None,\n",
    "  datetime.datetime(2021, 4, 2, 0, 55, 18))]"
   ]
  },
  {
   "cell_type": "code",
   "execution_count": 2,
   "metadata": {
    "application/vnd.databricks.v1+cell": {
     "inputWidgets": {},
     "nuid": "bf5f40ac-5f3d-43f9-9172-a9a324772482",
     "showTitle": false,
     "title": ""
    }
   },
   "outputs": [],
   "source": [
    "from pyspark.sql.types import *"
   ]
  },
  {
   "cell_type": "code",
   "execution_count": 3,
   "metadata": {
    "application/vnd.databricks.v1+cell": {
     "inputWidgets": {},
     "nuid": "c976ffdc-5e11-45ff-8d28-ed2989debcdb",
     "showTitle": false,
     "title": ""
    }
   },
   "outputs": [],
   "source": [
    "users_schema = StructType([\n",
    "    StructField('id', IntegerType()),\n",
    "    StructField('first_name', StringType()),\n",
    "    StructField('last_name', StringType()),\n",
    "    StructField('email', StringType()),\n",
    "    StructField('is_customer', BooleanType()),\n",
    "    StructField('amount_paid', FloatType()),\n",
    "    StructField('customer_from', DateType()),\n",
    "    StructField('last_updated_ts', TimestampType())\n",
    "])"
   ]
  },
  {
   "cell_type": "code",
   "execution_count": 4,
   "metadata": {
    "application/vnd.databricks.v1+cell": {
     "inputWidgets": {},
     "nuid": "ff4d814b-146d-46d1-b0b6-04c13e979e2c",
     "showTitle": false,
     "title": ""
    }
   },
   "outputs": [
    {
     "data": {
      "text/plain": [
       "pyspark.sql.types.StructType"
      ]
     },
     "execution_count": 4,
     "metadata": {},
     "output_type": "execute_result"
    }
   ],
   "source": [
    "type(users_schema)"
   ]
  },
  {
   "cell_type": "code",
   "execution_count": 5,
   "metadata": {
    "application/vnd.databricks.v1+cell": {
     "inputWidgets": {},
     "nuid": "9551596f-89ab-4c2a-b5a7-dc5653074a49",
     "showTitle": false,
     "title": ""
    }
   },
   "outputs": [
    {
     "data": {
      "text/html": [
       "<table border='1'>\n",
       "<tr><th>id</th><th>first_name</th><th>last_name</th><th>email</th><th>is_customer</th><th>amount_paid</th><th>customer_from</th><th>last_updated_ts</th></tr>\n",
       "<tr><td>1</td><td>Corrie</td><td>Van den Oord</td><td>cvandenoord0@etsy...</td><td>true</td><td>1000.55</td><td>2021-01-15</td><td>2021-02-10 01:15:00</td></tr>\n",
       "<tr><td>2</td><td>Nikolaus</td><td>Brewitt</td><td>nbrewitt1@dailyma...</td><td>true</td><td>900.0</td><td>2021-02-14</td><td>2021-02-18 03:33:00</td></tr>\n",
       "<tr><td>3</td><td>Orelie</td><td>Penney</td><td>openney2@vistapri...</td><td>true</td><td>850.55</td><td>2021-01-21</td><td>2021-03-15 15:16:55</td></tr>\n",
       "<tr><td>4</td><td>Ashby</td><td>Maddocks</td><td>amaddocks3@home.pl</td><td>false</td><td>null</td><td>null</td><td>2021-04-10 17:45:30</td></tr>\n",
       "<tr><td>5</td><td>Kurt</td><td>Rome</td><td>krome4@shutterfly...</td><td>false</td><td>null</td><td>null</td><td>2021-04-02 00:55:18</td></tr>\n",
       "</table>\n"
      ],
      "text/plain": [
       "+---+----------+------------+--------------------+-----------+-----------+-------------+-------------------+\n",
       "| id|first_name|   last_name|               email|is_customer|amount_paid|customer_from|    last_updated_ts|\n",
       "+---+----------+------------+--------------------+-----------+-----------+-------------+-------------------+\n",
       "|  1|    Corrie|Van den Oord|cvandenoord0@etsy...|       true|    1000.55|   2021-01-15|2021-02-10 01:15:00|\n",
       "|  2|  Nikolaus|     Brewitt|nbrewitt1@dailyma...|       true|      900.0|   2021-02-14|2021-02-18 03:33:00|\n",
       "|  3|    Orelie|      Penney|openney2@vistapri...|       true|     850.55|   2021-01-21|2021-03-15 15:16:55|\n",
       "|  4|     Ashby|    Maddocks|  amaddocks3@home.pl|      false|       null|         null|2021-04-10 17:45:30|\n",
       "|  5|      Kurt|        Rome|krome4@shutterfly...|      false|       null|         null|2021-04-02 00:55:18|\n",
       "+---+----------+------------+--------------------+-----------+-----------+-------------+-------------------+"
      ]
     },
     "execution_count": 5,
     "metadata": {},
     "output_type": "execute_result"
    }
   ],
   "source": [
    "spark.createDataFrame(users, schema=users_schema)"
   ]
  },
  {
   "cell_type": "code",
   "execution_count": 6,
   "metadata": {
    "application/vnd.databricks.v1+cell": {
     "inputWidgets": {},
     "nuid": "a9c36b6d-82fb-4420-bc4f-f543623ca8b1",
     "showTitle": false,
     "title": ""
    }
   },
   "outputs": [
    {
     "name": "stdout",
     "output_type": "stream",
     "text": [
      "+---+----------+------------+--------------------+-----------+-----------+-------------+-------------------+\n",
      "| id|first_name|   last_name|               email|is_customer|amount_paid|customer_from|    last_updated_ts|\n",
      "+---+----------+------------+--------------------+-----------+-----------+-------------+-------------------+\n",
      "|  1|    Corrie|Van den Oord|cvandenoord0@etsy...|       true|    1000.55|   2021-01-15|2021-02-10 01:15:00|\n",
      "|  2|  Nikolaus|     Brewitt|nbrewitt1@dailyma...|       true|      900.0|   2021-02-14|2021-02-18 03:33:00|\n",
      "|  3|    Orelie|      Penney|openney2@vistapri...|       true|     850.55|   2021-01-21|2021-03-15 15:16:55|\n",
      "|  4|     Ashby|    Maddocks|  amaddocks3@home.pl|      false|       null|         null|2021-04-10 17:45:30|\n",
      "|  5|      Kurt|        Rome|krome4@shutterfly...|      false|       null|         null|2021-04-02 00:55:18|\n",
      "+---+----------+------------+--------------------+-----------+-----------+-------------+-------------------+\n",
      "\n"
     ]
    }
   ],
   "source": [
    "spark.createDataFrame(users, schema=users_schema).show()"
   ]
  },
  {
   "cell_type": "code",
   "execution_count": 7,
   "metadata": {
    "application/vnd.databricks.v1+cell": {
     "inputWidgets": {},
     "nuid": "22c5dc89-d5a5-442d-9317-f86f6669fb8d",
     "showTitle": false,
     "title": ""
    }
   },
   "outputs": [
    {
     "data": {
      "text/plain": [
       "[Row(id=1, first_name='Corrie', last_name='Van den Oord', email='cvandenoord0@etsy.com', is_customer=True, amount_paid=1000.5499877929688, customer_from=datetime.date(2021, 1, 15), last_updated_ts=datetime.datetime(2021, 2, 10, 1, 15)),\n",
       " Row(id=2, first_name='Nikolaus', last_name='Brewitt', email='nbrewitt1@dailymail.co.uk', is_customer=True, amount_paid=900.0, customer_from=datetime.date(2021, 2, 14), last_updated_ts=datetime.datetime(2021, 2, 18, 3, 33)),\n",
       " Row(id=3, first_name='Orelie', last_name='Penney', email='openney2@vistaprint.com', is_customer=True, amount_paid=850.5499877929688, customer_from=datetime.date(2021, 1, 21), last_updated_ts=datetime.datetime(2021, 3, 15, 15, 16, 55)),\n",
       " Row(id=4, first_name='Ashby', last_name='Maddocks', email='amaddocks3@home.pl', is_customer=False, amount_paid=None, customer_from=None, last_updated_ts=datetime.datetime(2021, 4, 10, 17, 45, 30)),\n",
       " Row(id=5, first_name='Kurt', last_name='Rome', email='krome4@shutterfly.com', is_customer=False, amount_paid=None, customer_from=None, last_updated_ts=datetime.datetime(2021, 4, 2, 0, 55, 18))]"
      ]
     },
     "execution_count": 7,
     "metadata": {},
     "output_type": "execute_result"
    }
   ],
   "source": [
    "spark.createDataFrame(users, schema=users_schema).rdd.collect()"
   ]
  },
  {
   "cell_type": "code",
   "execution_count": null,
   "metadata": {},
   "outputs": [],
   "source": []
  }
 ],
 "metadata": {
  "application/vnd.databricks.v1+notebook": {
   "dashboards": [],
   "language": "python",
   "notebookMetadata": {
    "pythonIndentUnit": 4
   },
   "notebookName": "11 Specifying Schema using Spark Types",
   "notebookOrigID": 456917195749842,
   "widgets": {}
  },
  "kernelspec": {
   "display_name": "Pyspark 3",
   "language": "python",
   "name": "pyspark3"
  },
  "language_info": {
   "codemirror_mode": {
    "name": "ipython",
    "version": 3
   },
   "file_extension": ".py",
   "mimetype": "text/x-python",
   "name": "python",
   "nbconvert_exporter": "python",
   "pygments_lexer": "ipython3",
   "version": "3.6.9"
  }
 },
 "nbformat": 4,
 "nbformat_minor": 4
}
