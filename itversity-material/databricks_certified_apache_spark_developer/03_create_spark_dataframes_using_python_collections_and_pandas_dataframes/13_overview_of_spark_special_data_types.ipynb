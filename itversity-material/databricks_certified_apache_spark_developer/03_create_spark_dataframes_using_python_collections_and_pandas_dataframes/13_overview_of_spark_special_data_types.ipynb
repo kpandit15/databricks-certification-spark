{
 "cells": [
  {
   "cell_type": "markdown",
   "metadata": {
    "application/vnd.databricks.v1+cell": {
     "inputWidgets": {},
     "nuid": "c4823813-0392-47ab-9089-be391fb3d69f",
     "showTitle": false,
     "title": ""
    }
   },
   "source": [
    "* Here are the special types that are supported by Spark.\n",
    "  * ARRAY\n",
    "  * STRUCT\n",
    "  * MAP\n",
    "* Python structures such as list and dict can be implicitly converted to Spark ARRAY and MAP respectively.\n",
    "* We need to use few Spark related APIs to convert Python data structures to STRUCT type."
   ]
  },
  {
   "cell_type": "code",
   "execution_count": null,
   "metadata": {
    "application/vnd.databricks.v1+cell": {
     "inputWidgets": {},
     "nuid": "d07d2d53-27b6-4eb2-bf9a-b284eb4564cf",
     "showTitle": false,
     "title": ""
    }
   },
   "outputs": [],
   "source": []
  }
 ],
 "metadata": {
  "application/vnd.databricks.v1+notebook": {
   "dashboards": [],
   "language": "python",
   "notebookMetadata": {
    "pythonIndentUnit": 4
   },
   "notebookName": "13 Overview of Spark Special Data Types",
   "notebookOrigID": 456917195749851,
   "widgets": {}
  },
  "kernelspec": {
   "display_name": "Pyspark 3",
   "language": "python",
   "name": "pyspark3"
  },
  "language_info": {
   "codemirror_mode": {
    "name": "ipython",
    "version": 3
   },
   "file_extension": ".py",
   "mimetype": "text/x-python",
   "name": "python",
   "nbconvert_exporter": "python",
   "pygments_lexer": "ipython3",
   "version": "3.8.10"
  }
 },
 "nbformat": 4,
 "nbformat_minor": 4
}
