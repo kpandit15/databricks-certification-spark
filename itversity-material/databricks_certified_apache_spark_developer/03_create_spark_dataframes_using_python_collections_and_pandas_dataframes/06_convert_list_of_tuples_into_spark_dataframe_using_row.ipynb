{
 "cells": [
  {
   "cell_type": "code",
   "execution_count": 1,
   "metadata": {
    "application/vnd.databricks.v1+cell": {
     "inputWidgets": {},
     "nuid": "f37a0ba8-66a4-49c7-b519-328a8f860dc1",
     "showTitle": false,
     "title": ""
    }
   },
   "outputs": [],
   "source": [
    "users_list = [(1, 'Scott'), (2, 'Donald'), (3, 'Mickey'), (4, 'Elvis')]"
   ]
  },
  {
   "cell_type": "code",
   "execution_count": 2,
   "metadata": {
    "application/vnd.databricks.v1+cell": {
     "inputWidgets": {},
     "nuid": "d43d350d-3843-4040-a419-efcc10b66f27",
     "showTitle": false,
     "title": ""
    }
   },
   "outputs": [
    {
     "data": {
      "text/plain": [
       "tuple"
      ]
     },
     "execution_count": 2,
     "metadata": {},
     "output_type": "execute_result"
    }
   ],
   "source": [
    "type(users_list[1])"
   ]
  },
  {
   "cell_type": "code",
   "execution_count": 3,
   "metadata": {
    "application/vnd.databricks.v1+cell": {
     "inputWidgets": {},
     "nuid": "5ded4305-af1b-4dd8-bc5f-63a763e18034",
     "showTitle": false,
     "title": ""
    }
   },
   "outputs": [
    {
     "data": {
      "text/html": [
       "<table border='1'>\n",
       "<tr><th>user_id</th><th>user_first_name</th></tr>\n",
       "<tr><td>1</td><td>Scott</td></tr>\n",
       "<tr><td>2</td><td>Donald</td></tr>\n",
       "<tr><td>3</td><td>Mickey</td></tr>\n",
       "<tr><td>4</td><td>Elvis</td></tr>\n",
       "</table>\n"
      ],
      "text/plain": [
       "+-------+---------------+\n",
       "|user_id|user_first_name|\n",
       "+-------+---------------+\n",
       "|      1|          Scott|\n",
       "|      2|         Donald|\n",
       "|      3|         Mickey|\n",
       "|      4|          Elvis|\n",
       "+-------+---------------+"
      ]
     },
     "execution_count": 3,
     "metadata": {},
     "output_type": "execute_result"
    }
   ],
   "source": [
    "spark.createDataFrame(users_list, 'user_id int, user_first_name string')"
   ]
  },
  {
   "cell_type": "code",
   "execution_count": 4,
   "metadata": {
    "application/vnd.databricks.v1+cell": {
     "inputWidgets": {},
     "nuid": "e76741a7-8ad6-41ad-9367-a977caaa0f45",
     "showTitle": false,
     "title": ""
    }
   },
   "outputs": [],
   "source": [
    "from pyspark.sql import Row"
   ]
  },
  {
   "cell_type": "code",
   "execution_count": 5,
   "metadata": {
    "application/vnd.databricks.v1+cell": {
     "inputWidgets": {},
     "nuid": "570d73c6-d6b6-45d6-a66b-056d0ece487e",
     "showTitle": false,
     "title": ""
    }
   },
   "outputs": [],
   "source": [
    "def dummy(*args):\n",
    "    print(args)\n",
    "    print(len(args))"
   ]
  },
  {
   "cell_type": "code",
   "execution_count": 6,
   "metadata": {
    "application/vnd.databricks.v1+cell": {
     "inputWidgets": {},
     "nuid": "4ad95b02-f51c-4ae0-a53a-d8a42b216013",
     "showTitle": false,
     "title": ""
    }
   },
   "outputs": [],
   "source": [
    "user_details = (1, 'Scott')"
   ]
  },
  {
   "cell_type": "code",
   "execution_count": 7,
   "metadata": {
    "application/vnd.databricks.v1+cell": {
     "inputWidgets": {},
     "nuid": "22972bbe-6245-4954-a83f-4af93d0e0c65",
     "showTitle": false,
     "title": ""
    }
   },
   "outputs": [
    {
     "name": "stdout",
     "output_type": "stream",
     "text": [
      "(1, 'Scott')\n",
      "2\n"
     ]
    }
   ],
   "source": [
    "dummy(*user_details)"
   ]
  },
  {
   "cell_type": "code",
   "execution_count": 8,
   "metadata": {
    "application/vnd.databricks.v1+cell": {
     "inputWidgets": {},
     "nuid": "9af8944a-9620-4965-8b36-5ee1d3b68e30",
     "showTitle": false,
     "title": ""
    }
   },
   "outputs": [],
   "source": [
    "users_rows = [Row(*user) for user in users_list]"
   ]
  },
  {
   "cell_type": "code",
   "execution_count": 9,
   "metadata": {
    "application/vnd.databricks.v1+cell": {
     "inputWidgets": {},
     "nuid": "fa64c4fb-f2dc-41d0-9d7a-d0ce3201575c",
     "showTitle": false,
     "title": ""
    }
   },
   "outputs": [
    {
     "data": {
      "text/plain": [
       "[<Row(1, 'Scott')>, <Row(2, 'Donald')>, <Row(3, 'Mickey')>, <Row(4, 'Elvis')>]"
      ]
     },
     "execution_count": 9,
     "metadata": {},
     "output_type": "execute_result"
    }
   ],
   "source": [
    "users_rows"
   ]
  },
  {
   "cell_type": "code",
   "execution_count": 10,
   "metadata": {
    "application/vnd.databricks.v1+cell": {
     "inputWidgets": {},
     "nuid": "46c5be08-d317-4c65-b9f5-acdd6cc6fecd",
     "showTitle": false,
     "title": ""
    }
   },
   "outputs": [
    {
     "data": {
      "text/html": [
       "<table border='1'>\n",
       "<tr><th>user_id</th><th>user_first_name</th></tr>\n",
       "<tr><td>1</td><td>Scott</td></tr>\n",
       "<tr><td>2</td><td>Donald</td></tr>\n",
       "<tr><td>3</td><td>Mickey</td></tr>\n",
       "<tr><td>4</td><td>Elvis</td></tr>\n",
       "</table>\n"
      ],
      "text/plain": [
       "+-------+---------------+\n",
       "|user_id|user_first_name|\n",
       "+-------+---------------+\n",
       "|      1|          Scott|\n",
       "|      2|         Donald|\n",
       "|      3|         Mickey|\n",
       "|      4|          Elvis|\n",
       "+-------+---------------+"
      ]
     },
     "execution_count": 10,
     "metadata": {},
     "output_type": "execute_result"
    }
   ],
   "source": [
    "spark.createDataFrame(users_rows, 'user_id int, user_first_name string')"
   ]
  },
  {
   "cell_type": "code",
   "execution_count": null,
   "metadata": {
    "application/vnd.databricks.v1+cell": {
     "inputWidgets": {},
     "nuid": "eba5d73f-12a1-420c-8577-350af09cbd14",
     "showTitle": false,
     "title": ""
    }
   },
   "outputs": [],
   "source": []
  }
 ],
 "metadata": {
  "application/vnd.databricks.v1+notebook": {
   "dashboards": [],
   "language": "python",
   "notebookMetadata": {
    "pythonIndentUnit": 4
   },
   "notebookName": "06 Convert List of Tuples into Spark Dataframe using Row",
   "notebookOrigID": 456917195749892,
   "widgets": {}
  },
  "kernelspec": {
   "display_name": "Pyspark 3",
   "language": "python",
   "name": "pyspark3"
  },
  "language_info": {
   "codemirror_mode": {
    "name": "ipython",
    "version": 3
   },
   "file_extension": ".py",
   "mimetype": "text/x-python",
   "name": "python",
   "nbconvert_exporter": "python",
   "pygments_lexer": "ipython3",
   "version": "3.6.9"
  }
 },
 "nbformat": 4,
 "nbformat_minor": 4
}
