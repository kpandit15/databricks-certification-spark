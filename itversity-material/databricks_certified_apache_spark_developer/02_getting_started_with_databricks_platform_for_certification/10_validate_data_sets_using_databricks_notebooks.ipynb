{
 "cells": [
  {
   "cell_type": "markdown",
   "metadata": {
    "application/vnd.databricks.v1+cell": {
     "inputWidgets": {},
     "nuid": "9d3b1d9f-a4be-4d32-a9da-7ad5de47444a",
     "showTitle": false,
     "title": ""
    },
    "tags": []
   },
   "source": [
    "## Validate Data Sets using Databricks Notebooks\n",
    "\n",
    "You can validate data sets in Databricks platform using below commands or code snippets.\n",
    "\n",
    "```python\n",
    "# list files or folders\n",
    "%fs ls /public/retail_db\n",
    "\n",
    "%fs ls /public/retail_db/orders\n",
    "\n",
    "%fs ls /public/retail_db_json\n",
    "\n",
    "%fs ls /public/retail_db_json/orders\n",
    "\n",
    "dbutils.fs.ls('/public/retail_db_json/orders')\n",
    "\n",
    "# Print file details\n",
    "for file_details in dbutils.fs.ls('/public/retail_db_json'):\n",
    "    print(file_details)\n",
    "\n",
    "for file_details in dbutils.fs.ls('/public/retail_db_json'):\n",
    "    print(file_details.path)\n",
    "```\n",
    "\n",
    "If you are using ITVersity single node self setup Spark Cluster, then you need to run below commands or code snippets.\n",
    "\n",
    "```python\n",
    "# list files or folders\n",
    "!ls -ltr /public\n",
    "\n",
    "# Print file paths\n",
    "import glob\n",
    "\n",
    "for file_details in glob.glob('/public/retail_db_json/**', recursive=True):\n",
    "    print(file_details)\n",
    "```"
   ]
  },
  {
   "cell_type": "code",
   "execution_count": null,
   "metadata": {},
   "outputs": [],
   "source": []
  }
 ],
 "metadata": {
  "application/vnd.databricks.v1+notebook": {
   "dashboards": [],
   "language": "python",
   "notebookMetadata": {
    "pythonIndentUnit": 2
   },
   "notebookName": "10 Validate Data Sets using Databricks Notebooks",
   "notebookOrigID": 456917195748471,
   "widgets": {}
  },
  "kernelspec": {
   "display_name": "Pyspark 3",
   "language": "python",
   "name": "pyspark3"
  },
  "language_info": {
   "codemirror_mode": {
    "name": "ipython",
    "version": 3
   },
   "file_extension": ".py",
   "mimetype": "text/x-python",
   "name": "python",
   "nbconvert_exporter": "python",
   "pygments_lexer": "ipython3",
   "version": "3.6.9"
  }
 },
 "nbformat": 4,
 "nbformat_minor": 4
}
