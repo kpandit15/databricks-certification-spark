{
 "cells": [
  {
   "cell_type": "markdown",
   "metadata": {
    "application/vnd.databricks.v1+cell": {
     "inputWidgets": {},
     "nuid": "4b7e97ef-4cf0-43db-b1f3-dbd5182ae117",
     "showTitle": false,
     "title": ""
    }
   },
   "source": [
    "## Setup Retail Datasets using Databricks CLI\n",
    "\n",
    "Let us copy the required data sets used for this course by using `databricks fs`. If you are using our self support single node cluster, the data sets will be available out of the box. You proceed to the next lecture to validate the data sets.\n",
    "* Make sure **Databricks CLI** is installed and configured with token.\n",
    "* Run this command to validate you have access to the environment you are working with - `databricks fs ls`\n",
    "* Create a folder by name **dbfs:/public** using `databricks fs mkdirs dbfs:/public`.\n",
    "\n",
    "Here are the instructions to setup **retail_db** data set under **dbfs:/public**.\n",
    "* Clone the GitHub repository by using `git clone https//github.com/dgadiraju/retail_db.git`.\n",
    "* Make sure to get into the folder and remove **.git** folder by using `rm -rf .git`. If you are using Windows you can use **File Explorer** to delete the folder.\n",
    "* Run the below command to copy the **retail_db** folder into **dbfs:/public**. Make sure to provide fully qualified path.\n",
    "\n",
    "```\n",
    "databricks fs cp /Users/itversity/retail_db dbfs:/public/retail_db --recursive\n",
    "```\n",
    "* Use the below command to validate. It should return details related to 6 folders and files.\n",
    "\n",
    "```\n",
    "databricks fs ls dbfs:/public/retail_db\n",
    "```\n",
    "\n",
    "Follow the similar instructions to setup **retail_db_json** data set under **dbfs:/public** using this git repo - `https//github.com/itversity/retail_db_json.git`"
   ]
  },
  {
   "cell_type": "code",
   "execution_count": null,
   "metadata": {
    "application/vnd.databricks.v1+cell": {
     "inputWidgets": {},
     "nuid": "89b0f3a3-c75a-4672-98b7-8b2714b1e61f",
     "showTitle": false,
     "title": ""
    }
   },
   "outputs": [
    {
     "data": {
      "text/html": [
       "<style scoped>\n",
       "  .ansiout {\n",
       "    display: block;\n",
       "    unicode-bidi: embed;\n",
       "    white-space: pre-wrap;\n",
       "    word-wrap: break-word;\n",
       "    word-break: break-all;\n",
       "    font-family: \"Source Code Pro\", \"Menlo\", monospace;;\n",
       "    font-size: 13px;\n",
       "    color: #555;\n",
       "    margin-left: 4px;\n",
       "    line-height: 19px;\n",
       "  }\n",
       "</style>"
      ]
     },
     "metadata": {
      "application/vnd.databricks.v1+output": {
       "arguments": {},
       "data": "",
       "errorSummary": "",
       "errorTraceType": null,
       "metadata": {},
       "type": "ipynbError"
      }
     },
     "output_type": "display_data"
    }
   ],
   "source": []
  }
 ],
 "metadata": {
  "application/vnd.databricks.v1+notebook": {
   "dashboards": [],
   "language": "python",
   "notebookMetadata": {
    "pythonIndentUnit": 2
   },
   "notebookName": "09 Setup Retail Datasets using Databricks CLI",
   "notebookOrigID": 456917195748468,
   "widgets": {}
  },
  "kernelspec": {
   "display_name": "Pyspark 3",
   "language": "python",
   "name": "pyspark3"
  },
  "language_info": {
   "codemirror_mode": {
    "name": "ipython",
    "version": 3
   },
   "file_extension": ".py",
   "mimetype": "text/x-python",
   "name": "python",
   "nbconvert_exporter": "python",
   "pygments_lexer": "ipython3",
   "version": "3.6.9"
  }
 },
 "nbformat": 4,
 "nbformat_minor": 4
}
