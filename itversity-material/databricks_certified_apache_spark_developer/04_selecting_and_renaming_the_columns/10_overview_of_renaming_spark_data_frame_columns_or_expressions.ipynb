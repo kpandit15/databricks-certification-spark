{
 "cells": [
  {
   "cell_type": "markdown",
   "metadata": {
    "application/vnd.databricks.v1+cell": {
     "inputWidgets": {},
     "nuid": "76e9e79b-facb-4191-8516-d06e0ccaa4ef",
     "showTitle": false,
     "title": ""
    }
   },
   "source": [
    "There are multiple ways to rename Spark Data Frame Columns or Expressions.\n",
    "* We can rename column or expression using `alias` as part of `select`\n",
    "* We can add or rename column or expression using `withColumn` on top of Data Frame.\n",
    "* We can rename one column at a time using `withColumnRenamed` on top of Data Frame.\n",
    "* We typically use `withColumn` to perform row level transformations and then to provide a name to the result. If we provide the same name as existing column, then the column will be replaced with new one.\n",
    "* If we want to just rename the column then it is better to use `withColumnRenamed`.\n",
    "* If we want to apply any transformation, we need to either use `select` or `withColumn`\n",
    "* We can rename bunch of columns using `toDF`."
   ]
  },
  {
   "cell_type": "code",
   "execution_count": null,
   "metadata": {
    "application/vnd.databricks.v1+cell": {
     "inputWidgets": {},
     "nuid": "cccc4526-b05a-4d40-9cdd-1b21f06dcd30",
     "showTitle": false,
     "title": ""
    }
   },
   "outputs": [],
   "source": []
  }
 ],
 "metadata": {
  "application/vnd.databricks.v1+notebook": {
   "dashboards": [],
   "language": "python",
   "notebookMetadata": {
    "pythonIndentUnit": 4
   },
   "notebookName": "10 Overview of Renaming Spark Data Frame Columns or Expressions",
   "notebookOrigID": 456917195749046,
   "widgets": {}
  },
  "kernelspec": {
   "display_name": "Pyspark 3",
   "language": "python",
   "name": "pyspark3"
  },
  "language_info": {
   "name": ""
  }
 },
 "nbformat": 4,
 "nbformat_minor": 4
}
