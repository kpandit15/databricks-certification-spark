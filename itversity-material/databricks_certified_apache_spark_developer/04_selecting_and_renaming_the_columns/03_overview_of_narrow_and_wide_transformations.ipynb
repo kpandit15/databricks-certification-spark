{
 "cells": [
  {
   "cell_type": "markdown",
   "metadata": {
    "application/vnd.databricks.v1+cell": {
     "inputWidgets": {},
     "nuid": "8ec25f68-1310-4e92-9cdd-d058c39ab0e3",
     "showTitle": false,
     "title": ""
    }
   },
   "source": [
    "## Overview of Narrow and Wide Transformations\n",
    "\n",
    "Let us get an overview of Narrow and Wide Transformations.\n",
    "* Here are the functions related to narrow transformations. Narrow transformations doesn't result in shuffling. These are also known as row level transformations.\n",
    "  * `df.select`\n",
    "  * `df.filter`\n",
    "  * `df.withColumn`\n",
    "  * `df.withColumnRenamed`\n",
    "  * `df.drop`\n",
    "* Here are the functions related to wide transformations.\n",
    "  * `df.distinct`\n",
    "  * `df.union` or any set operation\n",
    "  * `df.join` or any join operation\n",
    "  * `df.groupBy`\n",
    "  * `df.sort` or `df.orderBy`\n",
    "* Any function that result in shuffling is wide transformation. For all the wide transformations, we have to deal with group of records based on a key."
   ]
  },
  {
   "cell_type": "code",
   "execution_count": null,
   "metadata": {
    "application/vnd.databricks.v1+cell": {
     "inputWidgets": {},
     "nuid": "cdb36fb8-9e3a-4bbc-8d7b-edc16c9f7db1",
     "showTitle": false,
     "title": ""
    }
   },
   "outputs": [
    {
     "data": {
      "text/html": [
       "<style scoped>\n",
       "  .ansiout {\n",
       "    display: block;\n",
       "    unicode-bidi: embed;\n",
       "    white-space: pre-wrap;\n",
       "    word-wrap: break-word;\n",
       "    word-break: break-all;\n",
       "    font-family: \"Source Code Pro\", \"Menlo\", monospace;;\n",
       "    font-size: 13px;\n",
       "    color: #555;\n",
       "    margin-left: 4px;\n",
       "    line-height: 19px;\n",
       "  }\n",
       "</style>"
      ]
     },
     "metadata": {
      "application/vnd.databricks.v1+output": {
       "arguments": {},
       "data": "",
       "errorSummary": "",
       "errorTraceType": null,
       "metadata": {},
       "type": "ipynbError"
      }
     },
     "output_type": "display_data"
    }
   ],
   "source": []
  }
 ],
 "metadata": {
  "application/vnd.databricks.v1+notebook": {
   "dashboards": [],
   "language": "python",
   "notebookMetadata": {
    "pythonIndentUnit": 4
   },
   "notebookName": "03 Overview of Narrow and Wide Transformations",
   "notebookOrigID": 456917195749070,
   "widgets": {}
  },
  "kernelspec": {
   "display_name": "Python 3 (ipykernel)",
   "language": "python",
   "name": "python3"
  },
  "language_info": {
   "codemirror_mode": {
    "name": "ipython",
    "version": 3
   },
   "file_extension": ".py",
   "mimetype": "text/x-python",
   "name": "python",
   "nbconvert_exporter": "python",
   "pygments_lexer": "ipython3",
   "version": "3.8.10"
  }
 },
 "nbformat": 4,
 "nbformat_minor": 4
}
